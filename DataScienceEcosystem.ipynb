{
 "cells": [
  {
   "cell_type": "markdown",
   "id": "f8334859-373f-452a-9563-71fd1475c0c8",
   "metadata": {},
   "source": [
    "# Data sciene tools and ecosystem"
   ]
  },
  {
   "cell_type": "markdown",
   "id": "4dcf9158-5fc0-4671-93a7-dea54e95b4d7",
   "metadata": {},
   "source": [
    "In this notebook, data science tools and ecosystems are sumarized "
   ]
  },
  {
   "cell_type": "markdown",
   "id": "268706ba-a45a-4843-82e9-6f223630a4c7",
   "metadata": {},
   "source": [
    "__Objectives:__\n",
    "* List popular languages for Data Science\n",
    "* List some popular libraries for Data Science\n",
    "* List Popular data science tools\n",
    "* Evaluate arithmetic exprsions"
   ]
  },
  {
   "cell_type": "markdown",
   "id": "4774a9c3-ac68-4733-aabf-218e13c6d44b",
   "metadata": {},
   "source": [
    "Some of the popular languages that Data Science uses are:\n",
    "1. python\n",
    "2. R\n",
    "3. SQL\n",
    "4. Stata"
   ]
  },
  {
   "cell_type": "markdown",
   "id": "ed15df47-2bf1-4fe6-8975-6d47ccdb5518",
   "metadata": {},
   "source": [
    "Some of the commonly used libraries used in Data Science include:\n",
    "- Pandas\n",
    "- Numpy\n",
    "- Scypy"
   ]
  },
  {
   "cell_type": "markdown",
   "id": "7b982cef-87eb-437d-8906-0f6346064ebf",
   "metadata": {},
   "source": [
    "\n",
    "|  Data science tools  |\n",
    "|-----|\n",
    "|Jupyter lab|\n",
    "|R studio|\n",
    "|Microsoft visual studio|\n",
    "\n"
   ]
  },
  {
   "cell_type": "markdown",
   "id": "89f91629-cb0d-471f-955a-f94c0a8fec50",
   "metadata": {},
   "source": [
    "### Below are a few examples of evaluating arithmetic expressions in Python"
   ]
  },
  {
   "cell_type": "code",
   "execution_count": 4,
   "id": "d4dd9a1a-de26-413b-bf25-22b7e45995f2",
   "metadata": {},
   "outputs": [
    {
     "data": {
      "text/plain": [
       "17"
      ]
     },
     "execution_count": 4,
     "metadata": {},
     "output_type": "execute_result"
    }
   ],
   "source": [
    "# This is a simple arithmetic expression to multiply then add integers\n",
    "(3*4)+5"
   ]
  },
  {
   "cell_type": "code",
   "execution_count": 10,
   "id": "b7d594c7-e74f-4b4f-ad7d-0f1be087a82e",
   "metadata": {},
   "outputs": [
    {
     "data": {
      "text/plain": [
       "3.3333333333333335"
      ]
     },
     "execution_count": 10,
     "metadata": {},
     "output_type": "execute_result"
    }
   ],
   "source": [
    "# This will convert 200 minutes to hours by dividing by 60\n",
    "200/60"
   ]
  },
  {
   "cell_type": "markdown",
   "id": "4a212d02-9f60-46a8-89f3-3efa6137ae34",
   "metadata": {},
   "source": [
    "## Author\n",
    "Adrian P. Bustamante"
   ]
  },
  {
   "cell_type": "code",
   "execution_count": null,
   "id": "86154e9b-8114-4896-b3d9-be689ac9df95",
   "metadata": {},
   "outputs": [],
   "source": []
  },
  {
   "cell_type": "code",
   "execution_count": null,
   "id": "be6eae5c-978d-4a42-a3ff-bb183eb4ff77",
   "metadata": {},
   "outputs": [],
   "source": []
  }
 ],
 "metadata": {
  "kernelspec": {
   "display_name": "Python 3 (ipykernel)",
   "language": "python",
   "name": "python3"
  },
  "language_info": {
   "codemirror_mode": {
    "name": "ipython",
    "version": 3
   },
   "file_extension": ".py",
   "mimetype": "text/x-python",
   "name": "python",
   "nbconvert_exporter": "python",
   "pygments_lexer": "ipython3",
   "version": "3.12.3"
  }
 },
 "nbformat": 4,
 "nbformat_minor": 5
}
